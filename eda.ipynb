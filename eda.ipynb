{
 "cells": [
  {
   "cell_type": "code",
   "execution_count": 17,
   "id": "0b828407",
   "metadata": {},
   "outputs": [],
   "source": [
    "# importing modules\n",
    "import pandas as pd \n",
    "import matplotlib.pyplot as plt"
   ]
  },
  {
   "cell_type": "code",
   "execution_count": 18,
   "id": "eda5b54e",
   "metadata": {},
   "outputs": [],
   "source": [
    "# Reading the dataset\n",
    "df = pd.read_csv('data/world_bank_data_2025.csv', sep=',')"
   ]
  },
  {
   "cell_type": "code",
   "execution_count": 19,
   "id": "2de7541a",
   "metadata": {},
   "outputs": [
    {
     "name": "stdout",
     "output_type": "stream",
     "text": [
      "<class 'pandas.core.frame.DataFrame'>\n",
      "RangeIndex: 3472 entries, 0 to 3471\n",
      "Data columns (total 16 columns):\n",
      " #   Column                           Non-Null Count  Dtype  \n",
      "---  ------                           --------------  -----  \n",
      " 0   country_name                     3472 non-null   object \n",
      " 1   country_id                       3472 non-null   object \n",
      " 2   year                             3472 non-null   int64  \n",
      " 3   Inflation (CPI %)                2694 non-null   float64\n",
      " 4   GDP (Current USD)                2933 non-null   float64\n",
      " 5   GDP per Capita (Current USD)     2938 non-null   float64\n",
      " 6   Unemployment Rate (%)            2795 non-null   float64\n",
      " 7   Interest Rate (Real, %)          1735 non-null   float64\n",
      " 8   Inflation (GDP Deflator, %)      2904 non-null   float64\n",
      " 9   GDP Growth (% Annual)            2912 non-null   float64\n",
      " 10  Current Account Balance (% GDP)  2563 non-null   float64\n",
      " 11  Government Expense (% of GDP)    1820 non-null   float64\n",
      " 12  Government Revenue (% of GDP)    1829 non-null   float64\n",
      " 13  Tax Revenue (% of GDP)           1833 non-null   float64\n",
      " 14  Gross National Income (USD)      2796 non-null   float64\n",
      " 15  Public Debt (% of GDP)           852 non-null    float64\n",
      "dtypes: float64(13), int64(1), object(2)\n",
      "memory usage: 434.1+ KB\n",
      "None\n"
     ]
    }
   ],
   "source": [
    "print(df.info())"
   ]
  },
  {
   "cell_type": "code",
   "execution_count": 20,
   "id": "c9a8c33e",
   "metadata": {},
   "outputs": [
    {
     "name": "stdout",
     "output_type": "stream",
     "text": [
      "              year  Inflation (CPI %)  GDP (Current USD)  \\\n",
      "count  3472.000000        2694.000000       2.933000e+03   \n",
      "mean   2017.500000           6.233154       3.964323e+11   \n",
      "std       4.610436          19.726903       1.749315e+12   \n",
      "min    2010.000000          -6.687321       3.210541e+07   \n",
      "25%    2013.750000           1.402112       6.264757e+09   \n",
      "50%    2017.500000           3.213523       2.587360e+10   \n",
      "75%    2021.250000           6.186626       1.874939e+11   \n",
      "max    2025.000000         557.201817       2.772071e+13   \n",
      "\n",
      "       GDP per Capita (Current USD)  Unemployment Rate (%)  \\\n",
      "count                   2938.000000            2795.000000   \n",
      "mean                   18483.495612               7.841141   \n",
      "std                    27301.814024               5.964358   \n",
      "min                      193.007146               0.100000   \n",
      "25%                     2280.748732               3.611000   \n",
      "50%                     6827.668145               5.771000   \n",
      "75%                    23727.024581              10.731500   \n",
      "max                   256580.515123              35.359000   \n",
      "\n",
      "       Interest Rate (Real, %)  Inflation (GDP Deflator, %)  \\\n",
      "count              1735.000000                  2904.000000   \n",
      "mean                  5.405051                     6.634865   \n",
      "std                   9.740924                    25.820196   \n",
      "min                 -81.132121                   -28.760135   \n",
      "25%                   1.734057                     1.218347   \n",
      "50%                   5.079009                     3.223184   \n",
      "75%                   8.869434                     6.905463   \n",
      "max                  61.882604                   921.535652   \n",
      "\n",
      "       GDP Growth (% Annual)  Current Account Balance (% GDP)  \\\n",
      "count            2912.000000                      2563.000000   \n",
      "mean                2.853544                        -2.363241   \n",
      "std                 6.053786                        13.740986   \n",
      "min               -54.336155                       -60.877754   \n",
      "25%                 0.997032                        -7.496525   \n",
      "50%                 3.100442                        -2.656009   \n",
      "75%                 5.355110                         1.854710   \n",
      "max                86.826748                       235.750605   \n",
      "\n",
      "       Government Expense (% of GDP)  Government Revenue (% of GDP)  \\\n",
      "count                    1820.000000                    1829.000000   \n",
      "mean                       27.325359                      26.677467   \n",
      "std                        12.642464                      18.116253   \n",
      "min                         0.000136                       0.000081   \n",
      "25%                        17.511484                      17.639153   \n",
      "50%                        26.000850                      24.821425   \n",
      "75%                        34.884582                      32.700782   \n",
      "max                       103.725787                     344.999451   \n",
      "\n",
      "       Tax Revenue (% of GDP)  Gross National Income (USD)  \\\n",
      "count             1833.000000                 2.796000e+03   \n",
      "mean                16.969924                 4.142237e+11   \n",
      "std                  8.218539                 1.799783e+12   \n",
      "min                  0.000063                 5.107533e+07   \n",
      "25%                 12.285344                 7.475538e+09   \n",
      "50%                 16.321438                 2.986520e+10   \n",
      "75%                 21.448658                 1.972529e+11   \n",
      "max                147.640196                 2.757614e+13   \n",
      "\n",
      "       Public Debt (% of GDP)  \n",
      "count              852.000000  \n",
      "mean                61.863736  \n",
      "std                 40.409792  \n",
      "min                  1.845685  \n",
      "25%                 33.894232  \n",
      "50%                 51.651469  \n",
      "75%                 81.930649  \n",
      "max                249.366027  \n"
     ]
    }
   ],
   "source": [
    "print(df.describe())"
   ]
  },
  {
   "cell_type": "code",
   "execution_count": 21,
   "id": "2076f8da",
   "metadata": {},
   "outputs": [
    {
     "name": "stdout",
     "output_type": "stream",
     "text": [
      "  country_name country_id  year  Inflation (CPI %)  GDP (Current USD)  \\\n",
      "0        Aruba         aw  2010           2.078141       2.453597e+09   \n",
      "1        Aruba         aw  2011           4.316297       2.637859e+09   \n",
      "2        Aruba         aw  2012           0.627472       2.615208e+09   \n",
      "3        Aruba         aw  2013          -2.372065       2.727850e+09   \n",
      "4        Aruba         aw  2014           0.421441       2.790850e+09   \n",
      "\n",
      "   GDP per Capita (Current USD)  Unemployment Rate (%)  \\\n",
      "0                  24093.140151                    NaN   \n",
      "1                  25712.384302                    NaN   \n",
      "2                  25119.665545                    NaN   \n",
      "3                  25813.576727                    NaN   \n",
      "4                  26129.839062                    NaN   \n",
      "\n",
      "   Interest Rate (Real, %)  Inflation (GDP Deflator, %)  \\\n",
      "0                11.666131                    -1.223407   \n",
      "1                 4.801974                     4.005674   \n",
      "2                 8.200875                     0.184033   \n",
      "3                10.709709                    -1.995948   \n",
      "4                 3.213869                     3.958897   \n",
      "\n",
      "   GDP Growth (% Annual)  Current Account Balance (% GDP)  \\\n",
      "0              -2.733457                       -18.752537   \n",
      "1               3.369237                        -9.877656   \n",
      "2              -1.040800                         3.473451   \n",
      "3               6.431483                       -11.813206   \n",
      "4              -1.586575                        -4.658577   \n",
      "\n",
      "   Government Expense (% of GDP)  Government Revenue (% of GDP)  \\\n",
      "0                            NaN                            NaN   \n",
      "1                            NaN                            NaN   \n",
      "2                            NaN                            NaN   \n",
      "3                            NaN                            NaN   \n",
      "4                            NaN                            NaN   \n",
      "\n",
      "   Tax Revenue (% of GDP)  Gross National Income (USD)  Public Debt (% of GDP)  \n",
      "0                     NaN                 2.313385e+09                     NaN  \n",
      "1                     NaN                 2.391841e+09                     NaN  \n",
      "2                     NaN                 2.499118e+09                     NaN  \n",
      "3                     NaN                 2.563517e+09                     NaN  \n",
      "4                     NaN                 2.688102e+09                     NaN  \n"
     ]
    }
   ],
   "source": [
    "print(df.head())"
   ]
  },
  {
   "cell_type": "code",
   "execution_count": 22,
   "id": "f8b27162",
   "metadata": {},
   "outputs": [
    {
     "name": "stdout",
     "output_type": "stream",
     "text": [
      "                  country_name country_id  year  Inflation (CPI %)  \\\n",
      "3428              South Africa         za  2014           6.132830   \n",
      "29                 Afghanistan         af  2023          -4.644709   \n",
      "2994  Turks and Caicos Islands         tc  2012                NaN   \n",
      "3046                  Thailand         th  2016           0.188150   \n",
      "745                    Curacao         cw  2019           2.622208   \n",
      "\n",
      "      GDP (Current USD)  GDP per Capita (Current USD)  Unemployment Rate (%)  \\\n",
      "3428       3.811989e+11                   6856.731371                 24.890   \n",
      "29         1.723305e+10                    415.707417                 13.991   \n",
      "2994       7.271610e+08                  22633.952750                    NaN   \n",
      "3046       4.133663e+11                   5833.577156                  0.688   \n",
      "745        3.026124e+09                  19220.686696                    NaN   \n",
      "\n",
      "      Interest Rate (Real, %)  Inflation (GDP Deflator, %)  \\\n",
      "3428                 3.567028                     5.366546   \n",
      "29                        NaN                     2.961654   \n",
      "2994                      NaN                     0.756185   \n",
      "3046                 1.785119                     2.636168   \n",
      "745                       NaN                     2.625902   \n",
      "\n",
      "      GDP Growth (% Annual)  Current Account Balance (% GDP)  \\\n",
      "3428               1.413826                        -4.812433   \n",
      "29                 2.710887                              NaN   \n",
      "2994              -0.972299                              NaN   \n",
      "3046               3.435158                        10.508354   \n",
      "745               -3.206132                       -17.868762   \n",
      "\n",
      "      Government Expense (% of GDP)  Government Revenue (% of GDP)  \\\n",
      "3428                      31.905350                      28.872613   \n",
      "29                              NaN                            NaN   \n",
      "2994                            NaN                            NaN   \n",
      "3046                      19.665296                      20.548474   \n",
      "745                             NaN                            NaN   \n",
      "\n",
      "      Tax Revenue (% of GDP)  Gross National Income (USD)  \\\n",
      "3428               24.431934                 3.717452e+11   \n",
      "29                       NaN                 1.731538e+10   \n",
      "2994                     NaN                          NaN   \n",
      "3046               16.100035                 3.939489e+11   \n",
      "745                      NaN                 3.038653e+09   \n",
      "\n",
      "      Public Debt (% of GDP)  \n",
      "3428                     NaN  \n",
      "29                       NaN  \n",
      "2994                     NaN  \n",
      "3046                37.30652  \n",
      "745                      NaN  \n"
     ]
    }
   ],
   "source": [
    "print(df.sample(5))"
   ]
  }
 ],
 "metadata": {
  "kernelspec": {
   "display_name": ".venv",
   "language": "python",
   "name": "python3"
  },
  "language_info": {
   "codemirror_mode": {
    "name": "ipython",
    "version": 3
   },
   "file_extension": ".py",
   "mimetype": "text/x-python",
   "name": "python",
   "nbconvert_exporter": "python",
   "pygments_lexer": "ipython3",
   "version": "3.12.3"
  }
 },
 "nbformat": 4,
 "nbformat_minor": 5
}
