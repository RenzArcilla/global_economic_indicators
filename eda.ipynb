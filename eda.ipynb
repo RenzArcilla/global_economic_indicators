{
 "cells": [
  {
   "cell_type": "code",
   "execution_count": 13,
   "id": "0b828407",
   "metadata": {},
   "outputs": [],
   "source": [
    "# importing modules\n",
    "import pandas as pd \n",
    "import matplotlib.pyplot as plt"
   ]
  },
  {
   "cell_type": "markdown",
   "id": "b4c0cabb",
   "metadata": {},
   "source": [
    "## Reading the data"
   ]
  },
  {
   "cell_type": "code",
   "execution_count": 14,
   "id": "eda5b54e",
   "metadata": {},
   "outputs": [],
   "source": [
    "# Reading the dataset\n",
    "df = pd.read_csv('data/world_bank_data_2025.csv', sep=',')"
   ]
  },
  {
   "cell_type": "markdown",
   "id": "a5da47c2",
   "metadata": {},
   "source": [
    "## Familiarizing with the dataset"
   ]
  },
  {
   "cell_type": "code",
   "execution_count": 16,
   "id": "3cf65285",
   "metadata": {},
   "outputs": [
    {
     "name": "stdout",
     "output_type": "stream",
     "text": [
      "Index(['country_name', 'country_id', 'year', 'Inflation (CPI %)',\n",
      "       'GDP (Current USD)', 'GDP per Capita (Current USD)',\n",
      "       'Unemployment Rate (%)', 'Interest Rate (Real, %)',\n",
      "       'Inflation (GDP Deflator, %)', 'GDP Growth (% Annual)',\n",
      "       'Current Account Balance (% GDP)', 'Government Expense (% of GDP)',\n",
      "       'Government Revenue (% of GDP)', 'Tax Revenue (% of GDP)',\n",
      "       'Gross National Income (USD)', 'Public Debt (% of GDP)'],\n",
      "      dtype='object')\n"
     ]
    }
   ],
   "source": [
    "# Checking the columns\n",
    "print(df.columns)"
   ]
  },
  {
   "cell_type": "code",
   "execution_count": 17,
   "id": "8d797f05",
   "metadata": {},
   "outputs": [
    {
     "name": "stdout",
     "output_type": "stream",
     "text": [
      "(3472, 16)\n"
     ]
    }
   ],
   "source": [
    "# Looking at the size of the data\n",
    "print(df.shape)"
   ]
  },
  {
   "cell_type": "code",
   "execution_count": 18,
   "id": "2de7541a",
   "metadata": {},
   "outputs": [
    {
     "name": "stdout",
     "output_type": "stream",
     "text": [
      "<class 'pandas.core.frame.DataFrame'>\n",
      "RangeIndex: 3472 entries, 0 to 3471\n",
      "Data columns (total 16 columns):\n",
      " #   Column                           Non-Null Count  Dtype  \n",
      "---  ------                           --------------  -----  \n",
      " 0   country_name                     3472 non-null   object \n",
      " 1   country_id                       3472 non-null   object \n",
      " 2   year                             3472 non-null   int64  \n",
      " 3   Inflation (CPI %)                2694 non-null   float64\n",
      " 4   GDP (Current USD)                2933 non-null   float64\n",
      " 5   GDP per Capita (Current USD)     2938 non-null   float64\n",
      " 6   Unemployment Rate (%)            2795 non-null   float64\n",
      " 7   Interest Rate (Real, %)          1735 non-null   float64\n",
      " 8   Inflation (GDP Deflator, %)      2904 non-null   float64\n",
      " 9   GDP Growth (% Annual)            2912 non-null   float64\n",
      " 10  Current Account Balance (% GDP)  2563 non-null   float64\n",
      " 11  Government Expense (% of GDP)    1820 non-null   float64\n",
      " 12  Government Revenue (% of GDP)    1829 non-null   float64\n",
      " 13  Tax Revenue (% of GDP)           1833 non-null   float64\n",
      " 14  Gross National Income (USD)      2796 non-null   float64\n",
      " 15  Public Debt (% of GDP)           852 non-null    float64\n",
      "dtypes: float64(13), int64(1), object(2)\n",
      "memory usage: 434.1+ KB\n",
      "None\n"
     ]
    }
   ],
   "source": [
    "# Checking the datatypes\n",
    "print(df.info())"
   ]
  },
  {
   "cell_type": "code",
   "execution_count": 19,
   "id": "c9a8c33e",
   "metadata": {},
   "outputs": [
    {
     "name": "stdout",
     "output_type": "stream",
     "text": [
      "              year  Inflation (CPI %)  GDP (Current USD)  \\\n",
      "count  3472.000000        2694.000000       2.933000e+03   \n",
      "mean   2017.500000           6.233154       3.964323e+11   \n",
      "std       4.610436          19.726903       1.749315e+12   \n",
      "min    2010.000000          -6.687321       3.210541e+07   \n",
      "25%    2013.750000           1.402112       6.264757e+09   \n",
      "50%    2017.500000           3.213523       2.587360e+10   \n",
      "75%    2021.250000           6.186626       1.874939e+11   \n",
      "max    2025.000000         557.201817       2.772071e+13   \n",
      "\n",
      "       GDP per Capita (Current USD)  Unemployment Rate (%)  \\\n",
      "count                   2938.000000            2795.000000   \n",
      "mean                   18483.495612               7.841141   \n",
      "std                    27301.814024               5.964358   \n",
      "min                      193.007146               0.100000   \n",
      "25%                     2280.748732               3.611000   \n",
      "50%                     6827.668145               5.771000   \n",
      "75%                    23727.024581              10.731500   \n",
      "max                   256580.515123              35.359000   \n",
      "\n",
      "       Interest Rate (Real, %)  Inflation (GDP Deflator, %)  \\\n",
      "count              1735.000000                  2904.000000   \n",
      "mean                  5.405051                     6.634865   \n",
      "std                   9.740924                    25.820196   \n",
      "min                 -81.132121                   -28.760135   \n",
      "25%                   1.734057                     1.218347   \n",
      "50%                   5.079009                     3.223184   \n",
      "75%                   8.869434                     6.905463   \n",
      "max                  61.882604                   921.535652   \n",
      "\n",
      "       GDP Growth (% Annual)  Current Account Balance (% GDP)  \\\n",
      "count            2912.000000                      2563.000000   \n",
      "mean                2.853544                        -2.363241   \n",
      "std                 6.053786                        13.740986   \n",
      "min               -54.336155                       -60.877754   \n",
      "25%                 0.997032                        -7.496525   \n",
      "50%                 3.100442                        -2.656009   \n",
      "75%                 5.355110                         1.854710   \n",
      "max                86.826748                       235.750605   \n",
      "\n",
      "       Government Expense (% of GDP)  Government Revenue (% of GDP)  \\\n",
      "count                    1820.000000                    1829.000000   \n",
      "mean                       27.325359                      26.677467   \n",
      "std                        12.642464                      18.116253   \n",
      "min                         0.000136                       0.000081   \n",
      "25%                        17.511484                      17.639153   \n",
      "50%                        26.000850                      24.821425   \n",
      "75%                        34.884582                      32.700782   \n",
      "max                       103.725787                     344.999451   \n",
      "\n",
      "       Tax Revenue (% of GDP)  Gross National Income (USD)  \\\n",
      "count             1833.000000                 2.796000e+03   \n",
      "mean                16.969924                 4.142237e+11   \n",
      "std                  8.218539                 1.799783e+12   \n",
      "min                  0.000063                 5.107533e+07   \n",
      "25%                 12.285344                 7.475538e+09   \n",
      "50%                 16.321438                 2.986520e+10   \n",
      "75%                 21.448658                 1.972529e+11   \n",
      "max                147.640196                 2.757614e+13   \n",
      "\n",
      "       Public Debt (% of GDP)  \n",
      "count              852.000000  \n",
      "mean                61.863736  \n",
      "std                 40.409792  \n",
      "min                  1.845685  \n",
      "25%                 33.894232  \n",
      "50%                 51.651469  \n",
      "75%                 81.930649  \n",
      "max                249.366027  \n"
     ]
    }
   ],
   "source": [
    "# Getting the summary statistics per column\n",
    "print(df.describe())"
   ]
  },
  {
   "cell_type": "markdown",
   "id": "50b7fb36",
   "metadata": {},
   "source": [
    "## Sampling the data"
   ]
  },
  {
   "cell_type": "code",
   "execution_count": 20,
   "id": "2076f8da",
   "metadata": {},
   "outputs": [
    {
     "name": "stdout",
     "output_type": "stream",
     "text": [
      "  country_name country_id  year  Inflation (CPI %)  GDP (Current USD)  \\\n",
      "0        Aruba         aw  2010           2.078141       2.453597e+09   \n",
      "1        Aruba         aw  2011           4.316297       2.637859e+09   \n",
      "2        Aruba         aw  2012           0.627472       2.615208e+09   \n",
      "3        Aruba         aw  2013          -2.372065       2.727850e+09   \n",
      "4        Aruba         aw  2014           0.421441       2.790850e+09   \n",
      "\n",
      "   GDP per Capita (Current USD)  Unemployment Rate (%)  \\\n",
      "0                  24093.140151                    NaN   \n",
      "1                  25712.384302                    NaN   \n",
      "2                  25119.665545                    NaN   \n",
      "3                  25813.576727                    NaN   \n",
      "4                  26129.839062                    NaN   \n",
      "\n",
      "   Interest Rate (Real, %)  Inflation (GDP Deflator, %)  \\\n",
      "0                11.666131                    -1.223407   \n",
      "1                 4.801974                     4.005674   \n",
      "2                 8.200875                     0.184033   \n",
      "3                10.709709                    -1.995948   \n",
      "4                 3.213869                     3.958897   \n",
      "\n",
      "   GDP Growth (% Annual)  Current Account Balance (% GDP)  \\\n",
      "0              -2.733457                       -18.752537   \n",
      "1               3.369237                        -9.877656   \n",
      "2              -1.040800                         3.473451   \n",
      "3               6.431483                       -11.813206   \n",
      "4              -1.586575                        -4.658577   \n",
      "\n",
      "   Government Expense (% of GDP)  Government Revenue (% of GDP)  \\\n",
      "0                            NaN                            NaN   \n",
      "1                            NaN                            NaN   \n",
      "2                            NaN                            NaN   \n",
      "3                            NaN                            NaN   \n",
      "4                            NaN                            NaN   \n",
      "\n",
      "   Tax Revenue (% of GDP)  Gross National Income (USD)  Public Debt (% of GDP)  \n",
      "0                     NaN                 2.313385e+09                     NaN  \n",
      "1                     NaN                 2.391841e+09                     NaN  \n",
      "2                     NaN                 2.499118e+09                     NaN  \n",
      "3                     NaN                 2.563517e+09                     NaN  \n",
      "4                     NaN                 2.688102e+09                     NaN  \n"
     ]
    }
   ],
   "source": [
    "# Checking the tip the dataset\n",
    "print(df.head(5))"
   ]
  },
  {
   "cell_type": "code",
   "execution_count": 21,
   "id": "f8b27162",
   "metadata": {},
   "outputs": [
    {
     "name": "stdout",
     "output_type": "stream",
     "text": [
      "                        country_name country_id  year  Inflation (CPI %)  \\\n",
      "2665                          Rwanda         rw  2019           3.347877   \n",
      "183                          Austria         at  2017           2.081269   \n",
      "3                              Aruba         aw  2013          -2.372065   \n",
      "2431                          Panama         pa  2025                NaN   \n",
      "1878                          Latvia         lv  2016           0.140633   \n",
      "2160                      Mauritania         mr  2010           6.283541   \n",
      "877               Dominican Republic         do  2023           4.785613   \n",
      "3295  St. Vincent and the Grenadines         vc  2025                NaN   \n",
      "265                     Burkina Faso         bf  2019          -3.233389   \n",
      "2346                           Nepal         np  2020           5.052367   \n",
      "\n",
      "      GDP (Current USD)  GDP per Capita (Current USD)  Unemployment Rate (%)  \\\n",
      "2665       1.034930e+10                    810.051420                 11.236   \n",
      "183        4.149261e+11                  47163.742578                  5.561   \n",
      "3          2.727850e+09                  25813.576727                    NaN   \n",
      "2431                NaN                           NaN                    NaN   \n",
      "1878       2.711711e+10                  13838.526682                  9.643   \n",
      "2160       5.628879e+09                   1659.963697                 10.075   \n",
      "877        1.214443e+11                  10717.627671                  5.555   \n",
      "3295                NaN                           NaN                    NaN   \n",
      "265        1.603281e+10                    764.853078                  4.710   \n",
      "2346       3.343366e+10                   1154.215176                 12.975   \n",
      "\n",
      "      Interest Rate (Real, %)  Inflation (GDP Deflator, %)  \\\n",
      "2665                13.717351                     2.471170   \n",
      "183                       NaN                     0.975318   \n",
      "3                   10.709709                    -1.995948   \n",
      "2431                      NaN                          NaN   \n",
      "1878                      NaN                     0.607931   \n",
      "2160                -4.367362                    22.343169   \n",
      "877                  7.527088                     6.423920   \n",
      "3295                      NaN                          NaN   \n",
      "265                  6.143921                     0.512901   \n",
      "2346                      NaN                     3.217402   \n",
      "\n",
      "      GDP Growth (% Annual)  Current Account Balance (% GDP)  \\\n",
      "2665               9.447385                       -11.893224   \n",
      "183                2.272250                         1.244446   \n",
      "3                  6.431483                       -11.813206   \n",
      "2431                    NaN                              NaN   \n",
      "1878               2.551686                         1.756574   \n",
      "2160               2.620229                              NaN   \n",
      "877                2.360616                        -3.603546   \n",
      "3295                    NaN                              NaN   \n",
      "265                5.889205                        -3.267282   \n",
      "2346              -2.369621                        -0.251654   \n",
      "\n",
      "      Government Expense (% of GDP)  Government Revenue (% of GDP)  \\\n",
      "2665                      19.345948                      20.741080   \n",
      "183                       44.865420                      43.988914   \n",
      "3                               NaN                            NaN   \n",
      "2431                            NaN                            NaN   \n",
      "1878                      30.689067                      29.858605   \n",
      "2160                            NaN                            NaN   \n",
      "877                             NaN                            NaN   \n",
      "3295                            NaN                            NaN   \n",
      "265                       18.217429                      18.606547   \n",
      "2346                      20.164783                      19.365427   \n",
      "\n",
      "      Tax Revenue (% of GDP)  Gross National Income (USD)  \\\n",
      "2665               14.605357                 1.000128e+10   \n",
      "183                25.761686                 4.133486e+11   \n",
      "3                        NaN                 2.563517e+09   \n",
      "2431                     NaN                          NaN   \n",
      "1878               17.231729                 2.804352e+10   \n",
      "2160                     NaN                 5.559972e+09   \n",
      "877                      NaN                 1.160067e+11   \n",
      "3295                     NaN                          NaN   \n",
      "265                15.640608                 1.532647e+10   \n",
      "2346               15.773650                 3.382875e+10   \n",
      "\n",
      "      Public Debt (% of GDP)  \n",
      "2665                     NaN  \n",
      "183                91.234735  \n",
      "3                        NaN  \n",
      "2431                     NaN  \n",
      "1878                     NaN  \n",
      "2160                     NaN  \n",
      "877                      NaN  \n",
      "3295                     NaN  \n",
      "265                47.062363  \n",
      "2346               39.048563  \n"
     ]
    }
   ],
   "source": [
    "print(df.sample(10))"
   ]
  },
  {
   "cell_type": "markdown",
   "id": "1caf4aa5",
   "metadata": {},
   "source": [
    "# Initial target Insights\n",
    "1. Check for countries with highest and lowest inflation rate (CPI)\n",
    "2. Check for countries with highest and lowest GDP\n",
    "3. Check for countries with highest and lowest GDP per capita\n",
    "4. Check for countries with highest and lowest government expense\n",
    "5. Check for countries with highest and lowest Tax revenue\n",
    "6. Check for countries with highest and lowest government revenue\n",
    "7. Check for countries with highest and lowest Public Debt\n",
    "8. Check for countries with highest and lowest unemployment rate\n",
    "9. Check for countries with highest GDP growth\n",
    "10. Check for countries with highest and lowest GNI\n",
    "11. Compare philippine data with its neighboring countries \n",
    "12. Check for correlations between columns"
   ]
  },
  {
   "cell_type": "markdown",
   "id": "8957ef05",
   "metadata": {},
   "source": [
    "## Subsetting the dataset for SEA countries\n",
    "- Brunei\n",
    "- Cambodia\n",
    "- Indonesia\n",
    "- Laos\n",
    "- Malaysia\n",
    "- Myanmar\n",
    "- Philippines\n",
    "- Singapore\n",
    "- Thailand\n",
    "- Timor-Leste (East Timor)\n",
    "- Vietnam"
   ]
  },
  {
   "cell_type": "code",
   "execution_count": 30,
   "id": "79ce8060",
   "metadata": {},
   "outputs": [
    {
     "name": "stdout",
     "output_type": "stream",
     "text": [
      "['Aruba' 'Afghanistan' 'Angola' 'Albania' 'Andorra' 'United Arab Emirates'\n",
      " 'Argentina' 'Armenia' 'American Samoa' 'Antigua and Barbuda' 'Australia'\n",
      " 'Austria' 'Azerbaijan' 'Burundi' 'Belgium' 'Benin' 'Burkina Faso'\n",
      " 'Bangladesh' 'Bulgaria' 'Bahrain' 'Bahamas, The' 'Bosnia and Herzegovina'\n",
      " 'Belarus' 'Belize' 'Bermuda' 'Bolivia' 'Brazil' 'Barbados'\n",
      " 'Brunei Darussalam' 'Bhutan' 'Botswana' 'Central African Republic'\n",
      " 'Canada' 'Switzerland' 'Channel Islands' 'Chile' 'China' \"Cote d'Ivoire\"\n",
      " 'Cameroon' 'Congo, Dem. Rep.' 'Congo, Rep.' 'Colombia' 'Comoros'\n",
      " 'Cabo Verde' 'Costa Rica' 'Cuba' 'Curacao' 'Cayman Islands' 'Cyprus'\n",
      " 'Czechia' 'Germany' 'Djibouti' 'Dominica' 'Denmark' 'Dominican Republic'\n",
      " 'Algeria' 'Ecuador' 'Egypt, Arab Rep.' 'Eritrea' 'Spain' 'Estonia'\n",
      " 'Ethiopia' 'Finland' 'Fiji' 'France' 'Faroe Islands'\n",
      " 'Micronesia, Fed. Sts.' 'Gabon' 'United Kingdom' 'Georgia' 'Ghana'\n",
      " 'Gibraltar' 'Guinea' 'Gambia, The' 'Guinea-Bissau' 'Equatorial Guinea'\n",
      " 'Greece' 'Grenada' 'Greenland' 'Guatemala' 'Guam' 'Guyana'\n",
      " 'Hong Kong SAR, China' 'Honduras' 'Croatia' 'Haiti' 'Hungary' 'Indonesia'\n",
      " 'Isle of Man' 'India' 'Ireland' 'Iran, Islamic Rep.' 'Iraq' 'Iceland'\n",
      " 'Israel' 'Italy' 'Jamaica' 'Jordan' 'Japan' 'Kazakhstan' 'Kenya'\n",
      " 'Kyrgyz Republic' 'Cambodia' 'Kiribati' 'St. Kitts and Nevis'\n",
      " 'Korea, Rep.' 'Kuwait' 'Lao PDR' 'Lebanon' 'Liberia' 'Libya' 'St. Lucia'\n",
      " 'Liechtenstein' 'Sri Lanka' 'Lesotho' 'Lithuania' 'Luxembourg' 'Latvia'\n",
      " 'Macao SAR, China' 'St. Martin (French part)' 'Morocco' 'Monaco'\n",
      " 'Moldova' 'Madagascar' 'Maldives' 'Mexico' 'Marshall Islands'\n",
      " 'North Macedonia' 'Mali' 'Malta' 'Myanmar' 'Montenegro' 'Mongolia'\n",
      " 'Northern Mariana Islands' 'Mozambique' 'Mauritania' 'Mauritius' 'Malawi'\n",
      " 'Malaysia' 'Namibia' 'New Caledonia' 'Niger' 'Nigeria' 'Nicaragua'\n",
      " 'Netherlands' 'Norway' 'Nepal' 'Nauru' 'New Zealand' 'Oman' 'Pakistan'\n",
      " 'Panama' 'Peru' 'Philippines' 'Palau' 'Papua New Guinea' 'Poland'\n",
      " 'Puerto Rico' \"Korea, Dem. People's Rep.\" 'Portugal' 'Paraguay'\n",
      " 'West Bank and Gaza' 'French Polynesia' 'Qatar' 'Romania'\n",
      " 'Russian Federation' 'Rwanda' 'Saudi Arabia' 'Sudan' 'Senegal'\n",
      " 'Singapore' 'Solomon Islands' 'Sierra Leone' 'El Salvador' 'San Marino'\n",
      " 'Somalia' 'Serbia' 'South Sudan' 'Sao Tome and Principe' 'Suriname'\n",
      " 'Slovak Republic' 'Slovenia' 'Sweden' 'Eswatini'\n",
      " 'Sint Maarten (Dutch part)' 'Seychelles' 'Syrian Arab Republic'\n",
      " 'Turks and Caicos Islands' 'Chad' 'Togo' 'Thailand' 'Tajikistan'\n",
      " 'Turkmenistan' 'Timor-Leste' 'Tonga' 'Trinidad and Tobago' 'Tunisia'\n",
      " 'Turkiye' 'Tuvalu' 'Tanzania' 'Uganda' 'Ukraine' 'Uruguay'\n",
      " 'United States' 'Uzbekistan' 'St. Vincent and the Grenadines'\n",
      " 'Venezuela, RB' 'British Virgin Islands' 'Virgin Islands (U.S.)'\n",
      " 'Viet Nam' 'Vanuatu' 'Samoa' 'Kosovo' 'Yemen, Rep.' 'South Africa'\n",
      " 'Zambia' 'Zimbabwe']\n"
     ]
    }
   ],
   "source": [
    "print(df.country_name.unique())"
   ]
  },
  {
   "cell_type": "code",
   "execution_count": 31,
   "id": "0ab86694",
   "metadata": {},
   "outputs": [
    {
     "name": "stdout",
     "output_type": "stream",
     "text": [
      "['Brunei Darussalam' 'Indonesia' 'Cambodia' 'Lao PDR' 'Myanmar' 'Malaysia'\n",
      " 'Philippines' 'Singapore' 'Thailand' 'Timor-Leste' 'Viet Nam']\n"
     ]
    }
   ],
   "source": [
    "sea_countries = [\n",
    "    'Brunei Darussalam', 'Cambodia', 'Indonesia', \n",
    "    'Lao PDR', 'Malaysia', 'Myanmar', \n",
    "    'Philippines', 'Singapore', 'Thailand', \n",
    "    'Timor-Leste', 'Viet Nam']\n",
    "# Subsetting the df\n",
    "sea_df = df.loc[df['country_name'].isin(sea_countries), :].copy()\n",
    "print(sea_df.country_name.unique())"
   ]
  },
  {
   "cell_type": "code",
   "execution_count": 32,
   "id": "85a5e4f9",
   "metadata": {},
   "outputs": [
    {
     "name": "stdout",
     "output_type": "stream",
     "text": [
      "['Brunei' 'Indonesia' 'Cambodia' 'Laos' 'Myanmar' 'Malaysia' 'Philippines'\n",
      " 'Singapore' 'Thailand' 'Timor-Leste' 'Vietnam']\n"
     ]
    }
   ],
   "source": [
    "# Fixing country names\n",
    "sea_df['country_name'] = sea_df['country_name'].str.replace('Lao PDR', 'Laos')\n",
    "sea_df['country_name'] = sea_df['country_name'].str.replace('Brunei Darussalam', 'Brunei')\n",
    "sea_df['country_name'] = sea_df['country_name'].str.replace('Viet Nam', 'Vietnam')\n",
    "print(sea_df.country_name.unique())"
   ]
  },
  {
   "cell_type": "markdown",
   "id": "b23fc1e7",
   "metadata": {},
   "source": [
    "### 1. Check for countries with highest and lowest inflation rate (CPI)"
   ]
  },
  {
   "cell_type": "code",
   "execution_count": 42,
   "id": "ce27bec9",
   "metadata": {},
   "outputs": [
    {
     "name": "stdout",
     "output_type": "stream",
     "text": [
      "     country_name  Inflation (CPI %)\n",
      "462        Brunei          -0.388674\n",
      "2222     Malaysia           1.834100\n",
      "3102  Timor-Leste           2.062842\n",
      "2734    Singapore           2.366458\n",
      "2462  Philippines           3.212605\n",
      "3358      Vietnam           3.621093\n",
      "1726         Laos          23.130570\n",
      "1406    Indonesia                NaN\n",
      "1646     Cambodia                NaN\n",
      "2094      Myanmar                NaN\n",
      "3054     Thailand                NaN\n"
     ]
    }
   ],
   "source": [
    "# Subset for latest year within the dataset (2024)\n",
    "df_2025 = sea_df.loc[sea_df['year'] == 2024]\n",
    "gby_inflation_rate = df_2025.sort_values('Inflation (CPI %)')\n",
    "print(gby_inflation_rate[['country_name', 'Inflation (CPI %)']])\n"
   ]
  },
  {
   "cell_type": "code",
   "execution_count": 56,
   "id": "51e60e9c",
   "metadata": {},
   "outputs": [
    {
     "data": {
      "image/png": "[encoded data removed]",
      "text/plain": [
       "<Figure size 1000x600 with 1 Axes>"
      ]
     },
     "metadata": {},
     "output_type": "display_data"
    }
   ],
   "source": [
    "# Generating a chart (bar chart)\n",
    "\n",
    "# Adgusting the size of the figure\n",
    "plt.figure(figsize=(10, 6))\n",
    "\n",
    "# Creating the chart\n",
    "plt.barh(gby_inflation_rate['country_name'], gby_inflation_rate['Inflation (CPI %)'])\n",
    "\n",
    "# Adding titles and labels\n",
    "plt.title('Inflation (CPI %) in Southeast Asia (2024)', fontsize=16)\n",
    "plt.xlabel('Inflation (CPI %)')\n",
    "plt.ylabel('Country')\n",
    "\n",
    "# Generating the chart\n",
    "plt.show()"
   ]
  },
  {
   "cell_type": "code",
   "execution_count": null,
   "id": "7d138e85",
   "metadata": {},
   "outputs": [],
   "source": []
  }
 ],
 "metadata": {
  "kernelspec": {
   "display_name": ".venv",
   "language": "python",
   "name": "python3"
  },
  "language_info": {
   "codemirror_mode": {
    "name": "ipython",
    "version": 3
   },
   "file_extension": ".py",
   "mimetype": "text/x-python",
   "name": "python",
   "nbconvert_exporter": "python",
   "pygments_lexer": "ipython3",
   "version": "3.12.3"
  }
 },
 "nbformat": 4,
 "nbformat_minor": 5
}
