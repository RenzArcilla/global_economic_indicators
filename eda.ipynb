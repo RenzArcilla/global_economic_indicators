{
 "cells": [
  {
   "cell_type": "code",
   "execution_count": 2,
   "id": "0b828407",
   "metadata": {},
   "outputs": [],
   "source": [
    "# importing modules\n",
    "import pandas as pd \n",
    "import matplotlib.pyplot as plt"
   ]
  },
  {
   "cell_type": "markdown",
   "id": "b4c0cabb",
   "metadata": {},
   "source": [
    "## Reading the data"
   ]
  },
  {
   "cell_type": "code",
   "execution_count": 3,
   "id": "eda5b54e",
   "metadata": {},
   "outputs": [],
   "source": [
    "# Reading the dataset\n",
    "df = pd.read_csv('data/world_bank_data_2025.csv', sep=',')"
   ]
  },
  {
   "cell_type": "markdown",
   "id": "a5da47c2",
   "metadata": {},
   "source": [
    "## Familiarizing with the dataset"
   ]
  },
  {
   "cell_type": "code",
   "execution_count": 4,
   "id": "3cf65285",
   "metadata": {},
   "outputs": [
    {
     "name": "stdout",
     "output_type": "stream",
     "text": [
      "Index(['country_name', 'country_id', 'year', 'Inflation (CPI %)',\n",
      "       'GDP (Current USD)', 'GDP per Capita (Current USD)',\n",
      "       'Unemployment Rate (%)', 'Interest Rate (Real, %)',\n",
      "       'Inflation (GDP Deflator, %)', 'GDP Growth (% Annual)',\n",
      "       'Current Account Balance (% GDP)', 'Government Expense (% of GDP)',\n",
      "       'Government Revenue (% of GDP)', 'Tax Revenue (% of GDP)',\n",
      "       'Gross National Income (USD)', 'Public Debt (% of GDP)'],\n",
      "      dtype='object')\n"
     ]
    }
   ],
   "source": [
    "# Checking the columns\n",
    "print(df.columns)"
   ]
  },
  {
   "cell_type": "code",
   "execution_count": 5,
   "id": "8d797f05",
   "metadata": {},
   "outputs": [
    {
     "name": "stdout",
     "output_type": "stream",
     "text": [
      "(3472, 16)\n"
     ]
    }
   ],
   "source": [
    "# Looking at the size of the data\n",
    "print(df.shape)"
   ]
  },
  {
   "cell_type": "code",
   "execution_count": 6,
   "id": "2de7541a",
   "metadata": {},
   "outputs": [
    {
     "name": "stdout",
     "output_type": "stream",
     "text": [
      "<class 'pandas.core.frame.DataFrame'>\n",
      "RangeIndex: 3472 entries, 0 to 3471\n",
      "Data columns (total 16 columns):\n",
      " #   Column                           Non-Null Count  Dtype  \n",
      "---  ------                           --------------  -----  \n",
      " 0   country_name                     3472 non-null   object \n",
      " 1   country_id                       3472 non-null   object \n",
      " 2   year                             3472 non-null   int64  \n",
      " 3   Inflation (CPI %)                2694 non-null   float64\n",
      " 4   GDP (Current USD)                2933 non-null   float64\n",
      " 5   GDP per Capita (Current USD)     2938 non-null   float64\n",
      " 6   Unemployment Rate (%)            2795 non-null   float64\n",
      " 7   Interest Rate (Real, %)          1735 non-null   float64\n",
      " 8   Inflation (GDP Deflator, %)      2904 non-null   float64\n",
      " 9   GDP Growth (% Annual)            2912 non-null   float64\n",
      " 10  Current Account Balance (% GDP)  2563 non-null   float64\n",
      " 11  Government Expense (% of GDP)    1820 non-null   float64\n",
      " 12  Government Revenue (% of GDP)    1829 non-null   float64\n",
      " 13  Tax Revenue (% of GDP)           1833 non-null   float64\n",
      " 14  Gross National Income (USD)      2796 non-null   float64\n",
      " 15  Public Debt (% of GDP)           852 non-null    float64\n",
      "dtypes: float64(13), int64(1), object(2)\n",
      "memory usage: 434.1+ KB\n",
      "None\n"
     ]
    }
   ],
   "source": [
    "# Checking the datatypes\n",
    "print(df.info())"
   ]
  },
  {
   "cell_type": "code",
   "execution_count": 7,
   "id": "c9a8c33e",
   "metadata": {},
   "outputs": [
    {
     "name": "stdout",
     "output_type": "stream",
     "text": [
      "              year  Inflation (CPI %)  GDP (Current USD)  \\\n",
      "count  3472.000000        2694.000000       2.933000e+03   \n",
      "mean   2017.500000           6.233154       3.964323e+11   \n",
      "std       4.610436          19.726903       1.749315e+12   \n",
      "min    2010.000000          -6.687321       3.210541e+07   \n",
      "25%    2013.750000           1.402112       6.264757e+09   \n",
      "50%    2017.500000           3.213523       2.587360e+10   \n",
      "75%    2021.250000           6.186626       1.874939e+11   \n",
      "max    2025.000000         557.201817       2.772071e+13   \n",
      "\n",
      "       GDP per Capita (Current USD)  Unemployment Rate (%)  \\\n",
      "count                   2938.000000            2795.000000   \n",
      "mean                   18483.495612               7.841141   \n",
      "std                    27301.814024               5.964358   \n",
      "min                      193.007146               0.100000   \n",
      "25%                     2280.748732               3.611000   \n",
      "50%                     6827.668145               5.771000   \n",
      "75%                    23727.024581              10.731500   \n",
      "max                   256580.515123              35.359000   \n",
      "\n",
      "       Interest Rate (Real, %)  Inflation (GDP Deflator, %)  \\\n",
      "count              1735.000000                  2904.000000   \n",
      "mean                  5.405051                     6.634865   \n",
      "std                   9.740924                    25.820196   \n",
      "min                 -81.132121                   -28.760135   \n",
      "25%                   1.734057                     1.218347   \n",
      "50%                   5.079009                     3.223184   \n",
      "75%                   8.869434                     6.905463   \n",
      "max                  61.882604                   921.535652   \n",
      "\n",
      "       GDP Growth (% Annual)  Current Account Balance (% GDP)  \\\n",
      "count            2912.000000                      2563.000000   \n",
      "mean                2.853544                        -2.363241   \n",
      "std                 6.053786                        13.740986   \n",
      "min               -54.336155                       -60.877754   \n",
      "25%                 0.997032                        -7.496525   \n",
      "50%                 3.100442                        -2.656009   \n",
      "75%                 5.355110                         1.854710   \n",
      "max                86.826748                       235.750605   \n",
      "\n",
      "       Government Expense (% of GDP)  Government Revenue (% of GDP)  \\\n",
      "count                    1820.000000                    1829.000000   \n",
      "mean                       27.325359                      26.677467   \n",
      "std                        12.642464                      18.116253   \n",
      "min                         0.000136                       0.000081   \n",
      "25%                        17.511484                      17.639153   \n",
      "50%                        26.000850                      24.821425   \n",
      "75%                        34.884582                      32.700782   \n",
      "max                       103.725787                     344.999451   \n",
      "\n",
      "       Tax Revenue (% of GDP)  Gross National Income (USD)  \\\n",
      "count             1833.000000                 2.796000e+03   \n",
      "mean                16.969924                 4.142237e+11   \n",
      "std                  8.218539                 1.799783e+12   \n",
      "min                  0.000063                 5.107533e+07   \n",
      "25%                 12.285344                 7.475538e+09   \n",
      "50%                 16.321438                 2.986520e+10   \n",
      "75%                 21.448658                 1.972529e+11   \n",
      "max                147.640196                 2.757614e+13   \n",
      "\n",
      "       Public Debt (% of GDP)  \n",
      "count              852.000000  \n",
      "mean                61.863736  \n",
      "std                 40.409792  \n",
      "min                  1.845685  \n",
      "25%                 33.894232  \n",
      "50%                 51.651469  \n",
      "75%                 81.930649  \n",
      "max                249.366027  \n"
     ]
    }
   ],
   "source": [
    "# Getting the summary statistics per column\n",
    "print(df.describe())"
   ]
  },
  {
   "cell_type": "markdown",
   "id": "50b7fb36",
   "metadata": {},
   "source": [
    "## Sampling the data"
   ]
  },
  {
   "cell_type": "code",
   "execution_count": 8,
   "id": "2076f8da",
   "metadata": {},
   "outputs": [
    {
     "name": "stdout",
     "output_type": "stream",
     "text": [
      "  country_name country_id  year  Inflation (CPI %)  GDP (Current USD)  \\\n",
      "0        Aruba         aw  2010           2.078141       2.453597e+09   \n",
      "1        Aruba         aw  2011           4.316297       2.637859e+09   \n",
      "2        Aruba         aw  2012           0.627472       2.615208e+09   \n",
      "3        Aruba         aw  2013          -2.372065       2.727850e+09   \n",
      "4        Aruba         aw  2014           0.421441       2.790850e+09   \n",
      "\n",
      "   GDP per Capita (Current USD)  Unemployment Rate (%)  \\\n",
      "0                  24093.140151                    NaN   \n",
      "1                  25712.384302                    NaN   \n",
      "2                  25119.665545                    NaN   \n",
      "3                  25813.576727                    NaN   \n",
      "4                  26129.839062                    NaN   \n",
      "\n",
      "   Interest Rate (Real, %)  Inflation (GDP Deflator, %)  \\\n",
      "0                11.666131                    -1.223407   \n",
      "1                 4.801974                     4.005674   \n",
      "2                 8.200875                     0.184033   \n",
      "3                10.709709                    -1.995948   \n",
      "4                 3.213869                     3.958897   \n",
      "\n",
      "   GDP Growth (% Annual)  Current Account Balance (% GDP)  \\\n",
      "0              -2.733457                       -18.752537   \n",
      "1               3.369237                        -9.877656   \n",
      "2              -1.040800                         3.473451   \n",
      "3               6.431483                       -11.813206   \n",
      "4              -1.586575                        -4.658577   \n",
      "\n",
      "   Government Expense (% of GDP)  Government Revenue (% of GDP)  \\\n",
      "0                            NaN                            NaN   \n",
      "1                            NaN                            NaN   \n",
      "2                            NaN                            NaN   \n",
      "3                            NaN                            NaN   \n",
      "4                            NaN                            NaN   \n",
      "\n",
      "   Tax Revenue (% of GDP)  Gross National Income (USD)  Public Debt (% of GDP)  \n",
      "0                     NaN                 2.313385e+09                     NaN  \n",
      "1                     NaN                 2.391841e+09                     NaN  \n",
      "2                     NaN                 2.499118e+09                     NaN  \n",
      "3                     NaN                 2.563517e+09                     NaN  \n",
      "4                     NaN                 2.688102e+09                     NaN  \n"
     ]
    }
   ],
   "source": [
    "# Checking the tip the dataset\n",
    "print(df.head(5))"
   ]
  },
  {
   "cell_type": "code",
   "execution_count": 9,
   "id": "f8b27162",
   "metadata": {},
   "outputs": [
    {
     "name": "stdout",
     "output_type": "stream",
     "text": [
      "             country_name country_id  year  Inflation (CPI %)  \\\n",
      "727                  Cuba         cu  2017                NaN   \n",
      "1346              Croatia         hr  2012           3.412073   \n",
      "69                Andorra         ad  2015                NaN   \n",
      "2157           Mozambique         mz  2023           7.126975   \n",
      "1816            Sri Lanka         lk  2018           2.135038   \n",
      "1425                India         in  2011           8.911793   \n",
      "3211               Uganda         ug  2021           2.204572   \n",
      "1668  St. Kitts and Nevis         kn  2014           0.247865   \n",
      "427                Brazil         br  2021           8.301660   \n",
      "2637              Romania         ro  2023          10.397187   \n",
      "\n",
      "      GDP (Current USD)  GDP per Capita (Current USD)  Unemployment Rate (%)  \\\n",
      "727        9.685065e+10                   8610.608295                  1.700   \n",
      "1346       5.755196e+10                  13508.683699                 15.935   \n",
      "69         2.789881e+09                  38654.934720                    NaN   \n",
      "2157       2.095422e+10                    622.985619                  3.519   \n",
      "1816       9.449387e+10                   4360.584735                  4.318   \n",
      "1425       1.823052e+12                   1445.461275                  7.616   \n",
      "3211       4.052979e+10                    882.791718                  3.422   \n",
      "1668       9.521111e+08                  20219.395424                    NaN   \n",
      "427        1.670647e+12                   7972.536650                 13.158   \n",
      "2637       3.507759e+11                  18404.273087                  5.589   \n",
      "\n",
      "      Interest Rate (Real, %)  Inflation (GDP Deflator, %)  \\\n",
      "727                       NaN                     4.113591   \n",
      "1346                 7.957067                     1.411456   \n",
      "69                        NaN                     0.660589   \n",
      "2157                17.472388                     5.301342   \n",
      "1816                 6.959911                     4.295306   \n",
      "1425                 1.317981                     8.733579   \n",
      "3211                      NaN                     2.545119   \n",
      "1668                 7.984644                     1.200956   \n",
      "427                 15.010885                    13.047271   \n",
      "2637                -3.058418                    12.769938   \n",
      "\n",
      "      GDP Growth (% Annual)  Current Account Balance (% GDP)  \\\n",
      "727                1.809792                              NaN   \n",
      "1346              -2.253746                        -0.361323   \n",
      "69                 1.434140                              NaN   \n",
      "2157               5.436859                       -10.533556   \n",
      "1816               2.310084                        -2.962153   \n",
      "1425               5.241316                        -3.429285   \n",
      "3211               3.536580                        -8.894470   \n",
      "1668               7.576966                         0.698263   \n",
      "427                4.762604                        -2.418766   \n",
      "2637               2.404272                        -6.973260   \n",
      "\n",
      "      Government Expense (% of GDP)  Government Revenue (% of GDP)  \\\n",
      "727                             NaN                            NaN   \n",
      "1346                      40.227503                      34.718119   \n",
      "69                              NaN                            NaN   \n",
      "2157                            NaN                            NaN   \n",
      "1816                      15.284795                      12.506397   \n",
      "1425                      14.489839                      11.495996   \n",
      "3211                      15.588381                      13.986239   \n",
      "1668                      24.192632                      34.589411   \n",
      "427                       31.793879                      27.326888   \n",
      "2637                            NaN                            NaN   \n",
      "\n",
      "      Tax Revenue (% of GDP)  Gross National Income (USD)  \\\n",
      "727                      NaN                 9.549700e+10   \n",
      "1346               20.128006                 5.563382e+10   \n",
      "69                       NaN                          NaN   \n",
      "2157                     NaN                 1.911702e+10   \n",
      "1816               11.153761                 9.209581e+10   \n",
      "1425               10.177387                 1.807021e+12   \n",
      "3211               12.458867                 3.964309e+10   \n",
      "1668               18.473179                 8.935111e+08   \n",
      "427                14.136675                 1.618525e+12   \n",
      "2637                     NaN                 3.414069e+11   \n",
      "\n",
      "      Public Debt (% of GDP)  \n",
      "727                      NaN  \n",
      "1346               76.326148  \n",
      "69                       NaN  \n",
      "2157                     NaN  \n",
      "1816                     NaN  \n",
      "1425               51.556554  \n",
      "3211               51.302662  \n",
      "1668               57.666394  \n",
      "427                85.011504  \n",
      "2637                     NaN  \n"
     ]
    }
   ],
   "source": [
    "print(df.sample(10))"
   ]
  },
  {
   "cell_type": "markdown",
   "id": "1caf4aa5",
   "metadata": {},
   "source": [
    "# Initial target Insights\n",
    "1. Check for countries with highest and lowest inflation rate (CPI)\n",
    "2. Check for countries with highest and lowest GDP\n",
    "3. Check for countries with highest and lowest GDP per capita\n",
    "4. Check for countries with highest and lowest government expense\n",
    "5. Check for countries with highest and lowest Tax revenue\n",
    "6. Check for countries with highest and lowest government revenue\n",
    "7. Check for countries with highest and lowest Public Debt\n",
    "8. Check for countries with highest and lowest unemployment rate\n",
    "9. Check for countries with highest GDP growth\n",
    "10. Check for countries with highest and lowest GNI\n",
    "11. Compare philippine data with its neighboring countries \n",
    "12. Check for correlations between columns"
   ]
  }
 ],
 "metadata": {
  "kernelspec": {
   "display_name": ".venv",
   "language": "python",
   "name": "python3"
  },
  "language_info": {
   "codemirror_mode": {
    "name": "ipython",
    "version": 3
   },
   "file_extension": ".py",
   "mimetype": "text/x-python",
   "name": "python",
   "nbconvert_exporter": "python",
   "pygments_lexer": "ipython3",
   "version": "3.12.3"
  }
 },
 "nbformat": 4,
 "nbformat_minor": 5
}
